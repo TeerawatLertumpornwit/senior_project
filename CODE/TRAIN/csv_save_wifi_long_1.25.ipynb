{
 "cells": [
  {
   "cell_type": "code",
   "execution_count": null,
   "metadata": {},
   "outputs": [
    {
     "name": "stdout",
     "output_type": "stream",
     "text": [
      "Starting data collection...\n"
     ]
    },
    {
     "ename": "",
     "evalue": "",
     "output_type": "error",
     "traceback": [
      "\u001b[1;31mThe Kernel crashed while executing code in the current cell or a previous cell. \n",
      "\u001b[1;31mPlease review the code in the cell(s) to identify a possible cause of the failure. \n",
      "\u001b[1;31mClick <a href='https://aka.ms/vscodeJupyterKernelCrash'>here</a> for more info. \n",
      "\u001b[1;31mView Jupyter <a href='command:jupyter.viewOutput'>log</a> for further details."
     ]
    }
   ],
   "source": [
    "import csv\n",
    "import time\n",
    "import requests\n",
    "\n",
    "# URL ของ endpoint ที่มีข้อมูล JSON\n",
    "url = 'http://192.168.4.1/data'  # เปลี่ยนเป็น URL จริง\n",
    "\n",
    "interval = 0.125  # อ่านข้อมูลทุก 0.125 วินาที\n",
    "filename = \"data_collected_idle-f25.csv\"\n",
    "\n",
    "# ใช้ requests.Session() เพื่อให้เปิด TCP Connection ค้างไว้ ลด Overhead\n",
    "session = requests.Session()\n",
    "\n",
    "# สร้างไฟล์ CSV และเขียน header\n",
    "with open(filename, mode='w', newline='') as file:\n",
    "    writer = csv.writer(file)\n",
    "    writer.writerow([\"ax\", \"ay\", \"az\", \"gx\", \"gy\", \"gz\"])  # เขียน header\n",
    "\n",
    "    print(\"Starting data collection... (Press Ctrl + C to stop)\")\n",
    "\n",
    "    try:\n",
    "        start_time = time.perf_counter()\n",
    "        next_read_time = start_time  # เวลาที่ต้องอ่านข้อมูลครั้งแรก\n",
    "\n",
    "        while True:\n",
    "            current_time = time.perf_counter()\n",
    "\n",
    "            if current_time >= next_read_time:\n",
    "                try:\n",
    "                    request_start = time.perf_counter()\n",
    "                    response = session.get(url, timeout=1, stream=False)  # ดึง JSON แบบเร็วขึ้น\n",
    "                    request_end = time.perf_counter()\n",
    "\n",
    "                    if response.status_code == 200:\n",
    "                        data = response.json()  # แปลงข้อมูลเป็น JSON\n",
    "                        print(f\"Raw data: {data} (Request time: {request_end - request_start:.4f}s)\")\n",
    "\n",
    "                        # ตรวจสอบว่าได้ข้อมูลครบทั้ง 6 ค่า\n",
    "                        if all(key in data for key in [\"ax\", \"ay\", \"az\", \"gx\", \"gy\", \"gz\"]):\n",
    "                            row = [data[\"ax\"], data[\"ay\"], data[\"az\"], data[\"gx\"], data[\"gy\"], data[\"gz\"]]\n",
    "                            writer.writerow(row)  # เขียนข้อมูลลงในไฟล์\n",
    "                            print(f\"Data written: {row}\")\n",
    "\n",
    "                        else:\n",
    "                            print(\"Incomplete data received\")\n",
    "\n",
    "                    else:\n",
    "                        print(f\"Failed to fetch data: {response.status_code}\")\n",
    "\n",
    "                    next_read_time += interval  # กำหนดเวลาอ่านข้อมูลครั้งถัดไป\n",
    "\n",
    "                except requests.RequestException as e:\n",
    "                    print(f\"Request error: {e}\")\n",
    "\n",
    "            # ปรับเวลาหน่วงให้แม่นยำขึ้น\n",
    "            time.sleep(max(0, next_read_time - time.perf_counter()))\n",
    "\n",
    "    except KeyboardInterrupt:\n",
    "        print(\"\\nInterrupted by user.\")\n",
    "\n",
    "    finally:\n",
    "        session.close()\n",
    "        print(\"Data collection complete. File saved as\", filename)\n"
   ]
  }
 ],
 "metadata": {
  "kernelspec": {
   "display_name": "Python 3",
   "language": "python",
   "name": "python3"
  },
  "language_info": {
   "codemirror_mode": {
    "name": "ipython",
    "version": 3
   },
   "file_extension": ".py",
   "mimetype": "text/x-python",
   "name": "python",
   "nbconvert_exporter": "python",
   "pygments_lexer": "ipython3",
   "version": "3.12.5"
  }
 },
 "nbformat": 4,
 "nbformat_minor": 2
}
